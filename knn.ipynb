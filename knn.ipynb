{
 "cells": [
  {
   "cell_type": "code",
   "execution_count": 306,
   "metadata": {},
   "outputs": [],
   "source": [
    "import pandas as pd"
   ]
  },
  {
   "cell_type": "code",
   "execution_count": 307,
   "metadata": {},
   "outputs": [
    {
     "data": {
      "text/html": [
       "<div>\n",
       "<style scoped>\n",
       "    .dataframe tbody tr th:only-of-type {\n",
       "        vertical-align: middle;\n",
       "    }\n",
       "\n",
       "    .dataframe tbody tr th {\n",
       "        vertical-align: top;\n",
       "    }\n",
       "\n",
       "    .dataframe thead th {\n",
       "        text-align: right;\n",
       "    }\n",
       "</style>\n",
       "<table border=\"1\" class=\"dataframe\">\n",
       "  <thead>\n",
       "    <tr style=\"text-align: right;\">\n",
       "      <th></th>\n",
       "      <th>Atribute 1</th>\n",
       "      <th>Atribute 2</th>\n",
       "      <th>Class</th>\n",
       "    </tr>\n",
       "  </thead>\n",
       "  <tbody>\n",
       "    <tr>\n",
       "      <th>0</th>\n",
       "      <td>0.8</td>\n",
       "      <td>6.3</td>\n",
       "      <td>N</td>\n",
       "    </tr>\n",
       "    <tr>\n",
       "      <th>1</th>\n",
       "      <td>1.4</td>\n",
       "      <td>8.1</td>\n",
       "      <td>N</td>\n",
       "    </tr>\n",
       "    <tr>\n",
       "      <th>2</th>\n",
       "      <td>2.1</td>\n",
       "      <td>7.4</td>\n",
       "      <td>N</td>\n",
       "    </tr>\n",
       "    <tr>\n",
       "      <th>3</th>\n",
       "      <td>2.6</td>\n",
       "      <td>14.3</td>\n",
       "      <td>P</td>\n",
       "    </tr>\n",
       "    <tr>\n",
       "      <th>4</th>\n",
       "      <td>6.8</td>\n",
       "      <td>12.6</td>\n",
       "      <td>N</td>\n",
       "    </tr>\n",
       "  </tbody>\n",
       "</table>\n",
       "</div>"
      ],
      "text/plain": [
       "   Atribute 1  Atribute 2 Class\n",
       "0         0.8         6.3     N\n",
       "1         1.4         8.1     N\n",
       "2         2.1         7.4     N\n",
       "3         2.6        14.3     P\n",
       "4         6.8        12.6     N"
      ]
     },
     "execution_count": 307,
     "metadata": {},
     "output_type": "execute_result"
    }
   ],
   "source": [
    "x_estudo = 9.1\n",
    "y_estudo = 11.0\n",
    "estudo = [[9.1, 11.0]]\n",
    "data = [[\"Atribute 1\", \"Atribute 2\", \"Class\"],\n",
    "[0.8,6.3,'N'],\n",
    "[1.4,8.1,'N'],\n",
    "[2.1,7.4,'N'],\n",
    "[2.6,14.3,'P'],\n",
    "[6.8,12.6,'N'],\n",
    "[8.8,9.8,'P'],\n",
    "[9.2,11.6,'N'],  \n",
    "[10.8,9.6,'P'],\n",
    "[11.8,9.9,'P'],\n",
    "[12.4,6.5,'P'],\n",
    "[12.8,1.1,'N'],\n",
    "[14.0,19.9,'N'],\n",
    "[14.2,18.5,'N'],\n",
    "[15.6,17.4,'N'],\n",
    "[15.8,12.2,'N'],\n",
    "[16.6,6.7,'P'],\n",
    "[17.4,4.5,'P'],\n",
    "[18.2,6.9,'P'],\n",
    "[19.0,3.4,'N'],\n",
    "[19.6,11.1,'P']]\n",
    "column_names = data.pop(0)\n",
    "df = pd.DataFrame(data, columns=column_names)\n",
    "df.head()"
   ]
  },
  {
   "cell_type": "code",
   "execution_count": 308,
   "metadata": {},
   "outputs": [
    {
     "data": {
      "image/png": "[encoded data removed]",
      "text/plain": [
       "<Figure size 360x360 with 1 Axes>"
      ]
     },
     "metadata": {},
     "output_type": "display_data"
    }
   ],
   "source": [
    "# Criando o ambiente do gráfico \n",
    "sns.set_style(\"white\")\n",
    "plt.figure(figsize=(5, 5))\n",
    "\n",
    "# Pontos Negativos\n",
    "g = sns.scatterplot(x=\"Atribute 1\", y=\"Atribute 2\",\n",
    "                    data=df.where(df['Class'] == \"N\"), color='red')\n",
    "\n",
    "# Pontos Positivos\n",
    "g = sns.scatterplot(x=\"Atribute 1\", y=\"Atribute 2\",\n",
    "                    data=df.where(df['Class'] == \"P\"), color='blue')\n",
    "\n",
    "# Ponto de Estudo\n",
    "g.scatter(x_estudo, y_estudo, c='black')\n",
    "\n",
    "# Circulo para os 5 vizinhos mais próximos\n",
    "circle = plt.Circle((x_estudo, y_estudo), 3.1, color='black', fill=False)\n",
    "g.add_patch(circle)\n",
    "plt.show()"
   ]
  },
  {
   "cell_type": "code",
   "execution_count": 309,
   "metadata": {},
   "outputs": [],
   "source": [
    "# Recortamos as colunas que contém os valores para calculo da distância euclidiana\n",
    "X = df.iloc[:, :-1].values\n",
    "\n",
    "# Recortamos as colunas que contém os resultados\n",
    "y = df.iloc[:, 2].values"
   ]
  },
  {
   "cell_type": "code",
   "execution_count": 345,
   "metadata": {},
   "outputs": [],
   "source": [
    "# Criamos nosso datset modelo \n",
    "from sklearn.model_selection import train_test_split\n",
    "X_train, X_test, y_train, y_test = train_test_split(X, y, test_size=0.10)"
   ]
  },
  {
   "cell_type": "code",
   "execution_count": 346,
   "metadata": {},
   "outputs": [],
   "source": [
    "# Escalamos o modelo\n",
    "from sklearn.preprocessing import StandardScaler\n",
    "scaler = StandardScaler()\n",
    "scaler.fit(X_train)\n",
    "\n",
    "X_train = scaler.transform(X_train)\n",
    "X_test = scaler.transform(X_test)\n"
   ]
  },
  {
   "cell_type": "code",
   "execution_count": 347,
   "metadata": {},
   "outputs": [
    {
     "data": {
      "text/plain": [
       "KNeighborsClassifier()"
      ]
     },
     "execution_count": 347,
     "metadata": {},
     "output_type": "execute_result"
    }
   ],
   "source": [
    "# Classificamos o modelo\n",
    "from sklearn.neighbors import KNeighborsClassifier\n",
    "classifier = KNeighborsClassifier(n_neighbors=5)\n",
    "classifier.fit(X_train, y_train)"
   ]
  },
  {
   "cell_type": "code",
   "execution_count": 348,
   "metadata": {},
   "outputs": [],
   "source": [
    "# Testamos a amostra criada anteriormente\n",
    "y_pred = classifier.predict(X_test)"
   ]
  },
  {
   "cell_type": "code",
   "execution_count": 350,
   "metadata": {},
   "outputs": [
    {
     "name": "stdout",
     "output_type": "stream",
     "text": [
      "[[1 0]\n",
      " [0 1]]\n",
      "              precision    recall  f1-score   support\n",
      "\n",
      "           N       1.00      1.00      1.00         1\n",
      "           P       1.00      1.00      1.00         1\n",
      "\n",
      "    accuracy                           1.00         2\n",
      "   macro avg       1.00      1.00      1.00         2\n",
      "weighted avg       1.00      1.00      1.00         2\n",
      "\n"
     ]
    }
   ],
   "source": [
    "# Criamos a matriz de confusão para avaliar o modelo, podemos ver que temos precisão de 100%, logo podemos utilizar o modelo\n",
    "# com muitas ressalvas, claro, devido termos só 10% do dataset testado\n",
    "from sklearn.metrics import classification_report, confusion_matrix\n",
    "print(confusion_matrix(y_test, y_pred))\n",
    "print(classification_report(y_test, y_pred))"
   ]
  },
  {
   "cell_type": "code",
   "execution_count": 351,
   "metadata": {},
   "outputs": [],
   "source": [
    "# Utilizamos o modelo para predizer o valor de estudo\n",
    "h_pred = classifier.predict(estudo)"
   ]
  },
  {
   "cell_type": "code",
   "execution_count": 352,
   "metadata": {},
   "outputs": [
    {
     "name": "stdout",
     "output_type": "stream",
     "text": [
      "['N']\n"
     ]
    }
   ],
   "source": [
    "# Valor corresponde a 'N' ou seja, negativo, pelo gráfico acima conseguimos ver claramente que seria negativo\n",
    "print(h_pred)"
   ]
  },
  {
   "cell_type": "code",
   "execution_count": 353,
   "metadata": {},
   "outputs": [],
   "source": [
    "# Para possível modelagem, transformamos os resultados em dataset\n",
    "df_pred = pd.DataFrame(estudo, columns = ['Atribute 1','Atribute 2'])\n",
    "pred = pd.Series(h_pred)\n",
    "df_pred['Class'] = pred.values"
   ]
  },
  {
   "cell_type": "code",
   "execution_count": 354,
   "metadata": {},
   "outputs": [
    {
     "data": {
      "text/html": [
       "<div>\n",
       "<style scoped>\n",
       "    .dataframe tbody tr th:only-of-type {\n",
       "        vertical-align: middle;\n",
       "    }\n",
       "\n",
       "    .dataframe tbody tr th {\n",
       "        vertical-align: top;\n",
       "    }\n",
       "\n",
       "    .dataframe thead th {\n",
       "        text-align: right;\n",
       "    }\n",
       "</style>\n",
       "<table border=\"1\" class=\"dataframe\">\n",
       "  <thead>\n",
       "    <tr style=\"text-align: right;\">\n",
       "      <th></th>\n",
       "      <th>Atribute 1</th>\n",
       "      <th>Atribute 2</th>\n",
       "      <th>Class</th>\n",
       "    </tr>\n",
       "  </thead>\n",
       "  <tbody>\n",
       "    <tr>\n",
       "      <th>0</th>\n",
       "      <td>9.1</td>\n",
       "      <td>11.0</td>\n",
       "      <td>N</td>\n",
       "    </tr>\n",
       "  </tbody>\n",
       "</table>\n",
       "</div>"
      ],
      "text/plain": [
       "   Atribute 1  Atribute 2 Class\n",
       "0         9.1        11.0     N"
      ]
     },
     "execution_count": 354,
     "metadata": {},
     "output_type": "execute_result"
    }
   ],
   "source": [
    "df_pred.head(7)"
   ]
  },
  {
   "cell_type": "code",
   "execution_count": null,
   "metadata": {},
   "outputs": [],
   "source": []
  }
 ],
 "metadata": {
  "kernelspec": {
   "display_name": "Python 3",
   "language": "python",
   "name": "python3"
  },
  "language_info": {
   "codemirror_mode": {
    "name": "ipython",
    "version": 3
   },
   "file_extension": ".py",
   "mimetype": "text/x-python",
   "name": "python",
   "nbconvert_exporter": "python",
   "pygments_lexer": "ipython3",
   "version": "3.8.5"
  }
 },
 "nbformat": 4,
 "nbformat_minor": 4
}
